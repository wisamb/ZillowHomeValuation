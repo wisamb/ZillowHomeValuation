{
 "cells": [
  {
   "cell_type": "markdown",
   "metadata": {},
   "source": [
    "# INFS768 - Final Project\n",
    "\n",
    "## Zillow Home Valuation\n",
    "## Ensemble Decision Trees"
   ]
  },
  {
   "cell_type": "markdown",
   "metadata": {},
   "source": [
    "Wisam Barkho  \n",
    "12/06/2018"
   ]
  },
  {
   "cell_type": "markdown",
   "metadata": {},
   "source": [
    "## Import Libraries / Import Data"
   ]
  },
  {
   "cell_type": "code",
   "execution_count": 1,
   "metadata": {},
   "outputs": [],
   "source": [
    "import numpy as np\n",
    "import pandas as pd\n",
    "from sklearn.metrics import mean_squared_error\n",
    "import seaborn as sns\n",
    "import matplotlib.pyplot as plt\n",
    "%matplotlib inline\n",
    "import timeit\n",
    "import mglearn"
   ]
  },
  {
   "cell_type": "markdown",
   "metadata": {},
   "source": [
    "## Outer Join 2016+2017 data"
   ]
  },
  {
   "cell_type": "code",
   "execution_count": 2,
   "metadata": {},
   "outputs": [],
   "source": [
    "df1 = pd.read_csv('training_2016.csv', index_col=0, na_values=['NA'], sep=',',low_memory=False)\n",
    "df2 = pd.read_csv('training_2017.csv', index_col=0, na_values=['NA'], sep=',',low_memory=False)\n",
    "dataset = df1.merge(df2, how='outer')\n",
    "dataset.to_csv('merged_data.csv')"
   ]
  },
  {
   "cell_type": "code",
   "execution_count": 3,
   "metadata": {},
   "outputs": [
    {
     "data": {
      "text/html": [
       "<div>\n",
       "<style scoped>\n",
       "    .dataframe tbody tr th:only-of-type {\n",
       "        vertical-align: middle;\n",
       "    }\n",
       "\n",
       "    .dataframe tbody tr th {\n",
       "        vertical-align: top;\n",
       "    }\n",
       "\n",
       "    .dataframe thead th {\n",
       "        text-align: right;\n",
       "    }\n",
       "</style>\n",
       "<table border=\"1\" class=\"dataframe\">\n",
       "  <thead>\n",
       "    <tr style=\"text-align: right;\">\n",
       "      <th></th>\n",
       "      <th>parcelid</th>\n",
       "      <th>logerror</th>\n",
       "      <th>transactiondate</th>\n",
       "      <th>bathroomcnt</th>\n",
       "      <th>bedroomcnt</th>\n",
       "      <th>buildingqualitytypeid</th>\n",
       "      <th>calculatedfinishedsquarefeet</th>\n",
       "      <th>finishedsquarefeet12</th>\n",
       "      <th>fips</th>\n",
       "      <th>heatingorsystemtypeid</th>\n",
       "      <th>...</th>\n",
       "      <th>regionidcity</th>\n",
       "      <th>regionidcounty</th>\n",
       "      <th>regionidzip</th>\n",
       "      <th>roomcnt</th>\n",
       "      <th>yearbuilt</th>\n",
       "      <th>structuretaxvaluedollarcnt</th>\n",
       "      <th>taxvaluedollarcnt</th>\n",
       "      <th>assessmentyear</th>\n",
       "      <th>landtaxvaluedollarcnt</th>\n",
       "      <th>censustractandblock</th>\n",
       "    </tr>\n",
       "  </thead>\n",
       "  <tbody>\n",
       "    <tr>\n",
       "      <th>0</th>\n",
       "      <td>10711738.0</td>\n",
       "      <td>0.0276</td>\n",
       "      <td>209.0</td>\n",
       "      <td>3.0</td>\n",
       "      <td>4.0</td>\n",
       "      <td>4.0</td>\n",
       "      <td>2538.0</td>\n",
       "      <td>2538.0</td>\n",
       "      <td>6037.0</td>\n",
       "      <td>2.0</td>\n",
       "      <td>...</td>\n",
       "      <td>12447.0</td>\n",
       "      <td>3101.0</td>\n",
       "      <td>96339.0</td>\n",
       "      <td>0.0</td>\n",
       "      <td>1978.0</td>\n",
       "      <td>245180.0</td>\n",
       "      <td>567112.0</td>\n",
       "      <td>2015.0</td>\n",
       "      <td>321932.0</td>\n",
       "      <td>6.037113e+13</td>\n",
       "    </tr>\n",
       "    <tr>\n",
       "      <th>1</th>\n",
       "      <td>10711755.0</td>\n",
       "      <td>-0.0182</td>\n",
       "      <td>209.0</td>\n",
       "      <td>3.0</td>\n",
       "      <td>3.0</td>\n",
       "      <td>4.0</td>\n",
       "      <td>1589.0</td>\n",
       "      <td>1589.0</td>\n",
       "      <td>6037.0</td>\n",
       "      <td>2.0</td>\n",
       "      <td>...</td>\n",
       "      <td>12447.0</td>\n",
       "      <td>3101.0</td>\n",
       "      <td>96339.0</td>\n",
       "      <td>0.0</td>\n",
       "      <td>1959.0</td>\n",
       "      <td>254691.0</td>\n",
       "      <td>459844.0</td>\n",
       "      <td>2015.0</td>\n",
       "      <td>205153.0</td>\n",
       "      <td>6.037113e+13</td>\n",
       "    </tr>\n",
       "    <tr>\n",
       "      <th>2</th>\n",
       "      <td>10711805.0</td>\n",
       "      <td>-0.1009</td>\n",
       "      <td>121.0</td>\n",
       "      <td>2.0</td>\n",
       "      <td>3.0</td>\n",
       "      <td>4.0</td>\n",
       "      <td>2411.0</td>\n",
       "      <td>2411.0</td>\n",
       "      <td>6037.0</td>\n",
       "      <td>2.0</td>\n",
       "      <td>...</td>\n",
       "      <td>12447.0</td>\n",
       "      <td>3101.0</td>\n",
       "      <td>96339.0</td>\n",
       "      <td>0.0</td>\n",
       "      <td>1973.0</td>\n",
       "      <td>235114.0</td>\n",
       "      <td>384787.0</td>\n",
       "      <td>2015.0</td>\n",
       "      <td>149673.0</td>\n",
       "      <td>6.037113e+13</td>\n",
       "    </tr>\n",
       "    <tr>\n",
       "      <th>3</th>\n",
       "      <td>10711816.0</td>\n",
       "      <td>-0.0121</td>\n",
       "      <td>93.0</td>\n",
       "      <td>2.0</td>\n",
       "      <td>4.0</td>\n",
       "      <td>4.0</td>\n",
       "      <td>2232.0</td>\n",
       "      <td>2232.0</td>\n",
       "      <td>6037.0</td>\n",
       "      <td>2.0</td>\n",
       "      <td>...</td>\n",
       "      <td>12447.0</td>\n",
       "      <td>3101.0</td>\n",
       "      <td>96339.0</td>\n",
       "      <td>0.0</td>\n",
       "      <td>1973.0</td>\n",
       "      <td>262309.0</td>\n",
       "      <td>437176.0</td>\n",
       "      <td>2015.0</td>\n",
       "      <td>174867.0</td>\n",
       "      <td>6.037113e+13</td>\n",
       "    </tr>\n",
       "    <tr>\n",
       "      <th>4</th>\n",
       "      <td>10711858.0</td>\n",
       "      <td>-0.0481</td>\n",
       "      <td>191.0</td>\n",
       "      <td>2.0</td>\n",
       "      <td>4.0</td>\n",
       "      <td>4.0</td>\n",
       "      <td>1882.0</td>\n",
       "      <td>1882.0</td>\n",
       "      <td>6037.0</td>\n",
       "      <td>2.0</td>\n",
       "      <td>...</td>\n",
       "      <td>12447.0</td>\n",
       "      <td>3101.0</td>\n",
       "      <td>96339.0</td>\n",
       "      <td>0.0</td>\n",
       "      <td>1973.0</td>\n",
       "      <td>232037.0</td>\n",
       "      <td>382055.0</td>\n",
       "      <td>2015.0</td>\n",
       "      <td>150018.0</td>\n",
       "      <td>6.037113e+13</td>\n",
       "    </tr>\n",
       "  </tbody>\n",
       "</table>\n",
       "<p>5 rows × 26 columns</p>\n",
       "</div>"
      ],
      "text/plain": [
       "     parcelid  logerror  transactiondate  bathroomcnt  bedroomcnt  \\\n",
       "0  10711738.0    0.0276            209.0          3.0         4.0   \n",
       "1  10711755.0   -0.0182            209.0          3.0         3.0   \n",
       "2  10711805.0   -0.1009            121.0          2.0         3.0   \n",
       "3  10711816.0   -0.0121             93.0          2.0         4.0   \n",
       "4  10711858.0   -0.0481            191.0          2.0         4.0   \n",
       "\n",
       "   buildingqualitytypeid  calculatedfinishedsquarefeet  finishedsquarefeet12  \\\n",
       "0                    4.0                        2538.0                2538.0   \n",
       "1                    4.0                        1589.0                1589.0   \n",
       "2                    4.0                        2411.0                2411.0   \n",
       "3                    4.0                        2232.0                2232.0   \n",
       "4                    4.0                        1882.0                1882.0   \n",
       "\n",
       "     fips  heatingorsystemtypeid         ...           regionidcity  \\\n",
       "0  6037.0                    2.0         ...                12447.0   \n",
       "1  6037.0                    2.0         ...                12447.0   \n",
       "2  6037.0                    2.0         ...                12447.0   \n",
       "3  6037.0                    2.0         ...                12447.0   \n",
       "4  6037.0                    2.0         ...                12447.0   \n",
       "\n",
       "   regionidcounty  regionidzip  roomcnt  yearbuilt  \\\n",
       "0          3101.0      96339.0      0.0     1978.0   \n",
       "1          3101.0      96339.0      0.0     1959.0   \n",
       "2          3101.0      96339.0      0.0     1973.0   \n",
       "3          3101.0      96339.0      0.0     1973.0   \n",
       "4          3101.0      96339.0      0.0     1973.0   \n",
       "\n",
       "   structuretaxvaluedollarcnt  taxvaluedollarcnt  assessmentyear  \\\n",
       "0                    245180.0           567112.0          2015.0   \n",
       "1                    254691.0           459844.0          2015.0   \n",
       "2                    235114.0           384787.0          2015.0   \n",
       "3                    262309.0           437176.0          2015.0   \n",
       "4                    232037.0           382055.0          2015.0   \n",
       "\n",
       "   landtaxvaluedollarcnt  censustractandblock  \n",
       "0               321932.0         6.037113e+13  \n",
       "1               205153.0         6.037113e+13  \n",
       "2               149673.0         6.037113e+13  \n",
       "3               174867.0         6.037113e+13  \n",
       "4               150018.0         6.037113e+13  \n",
       "\n",
       "[5 rows x 26 columns]"
      ]
     },
     "execution_count": 3,
     "metadata": {},
     "output_type": "execute_result"
    }
   ],
   "source": [
    "dataset.head()"
   ]
  },
  {
   "cell_type": "code",
   "execution_count": 4,
   "metadata": {},
   "outputs": [
    {
     "name": "stdout",
     "output_type": "stream",
     "text": [
      "The shape of our features is: (148241, 26)\n"
     ]
    }
   ],
   "source": [
    "print('The shape of our features is:', dataset.shape)"
   ]
  },
  {
   "cell_type": "code",
   "execution_count": 5,
   "metadata": {},
   "outputs": [
    {
     "data": {
      "text/html": [
       "<div>\n",
       "<style scoped>\n",
       "    .dataframe tbody tr th:only-of-type {\n",
       "        vertical-align: middle;\n",
       "    }\n",
       "\n",
       "    .dataframe tbody tr th {\n",
       "        vertical-align: top;\n",
       "    }\n",
       "\n",
       "    .dataframe thead th {\n",
       "        text-align: right;\n",
       "    }\n",
       "</style>\n",
       "<table border=\"1\" class=\"dataframe\">\n",
       "  <thead>\n",
       "    <tr style=\"text-align: right;\">\n",
       "      <th></th>\n",
       "      <th>logerror</th>\n",
       "      <th>transactiondate</th>\n",
       "      <th>bathroomcnt</th>\n",
       "      <th>bedroomcnt</th>\n",
       "      <th>buildingqualitytypeid</th>\n",
       "      <th>calculatedfinishedsquarefeet</th>\n",
       "      <th>finishedsquarefeet12</th>\n",
       "      <th>fips</th>\n",
       "      <th>heatingorsystemtypeid</th>\n",
       "      <th>latitude</th>\n",
       "      <th>...</th>\n",
       "      <th>regionidcity</th>\n",
       "      <th>regionidcounty</th>\n",
       "      <th>regionidzip</th>\n",
       "      <th>roomcnt</th>\n",
       "      <th>yearbuilt</th>\n",
       "      <th>structuretaxvaluedollarcnt</th>\n",
       "      <th>taxvaluedollarcnt</th>\n",
       "      <th>assessmentyear</th>\n",
       "      <th>landtaxvaluedollarcnt</th>\n",
       "      <th>censustractandblock</th>\n",
       "    </tr>\n",
       "  </thead>\n",
       "  <tbody>\n",
       "    <tr>\n",
       "      <th>count</th>\n",
       "      <td>148241.000000</td>\n",
       "      <td>148241.000000</td>\n",
       "      <td>148241.000000</td>\n",
       "      <td>148241.000000</td>\n",
       "      <td>148241.000000</td>\n",
       "      <td>148241.000000</td>\n",
       "      <td>148241.000000</td>\n",
       "      <td>148241.000000</td>\n",
       "      <td>148241.000000</td>\n",
       "      <td>1.482410e+05</td>\n",
       "      <td>...</td>\n",
       "      <td>148241.000000</td>\n",
       "      <td>148241.000000</td>\n",
       "      <td>148241.000000</td>\n",
       "      <td>148241.000000</td>\n",
       "      <td>148241.000000</td>\n",
       "      <td>1.482410e+05</td>\n",
       "      <td>1.482410e+05</td>\n",
       "      <td>148241.000000</td>\n",
       "      <td>1.482410e+05</td>\n",
       "      <td>1.482410e+05</td>\n",
       "    </tr>\n",
       "    <tr>\n",
       "      <th>mean</th>\n",
       "      <td>0.005245</td>\n",
       "      <td>149.835450</td>\n",
       "      <td>2.220435</td>\n",
       "      <td>2.993133</td>\n",
       "      <td>4.676305</td>\n",
       "      <td>1672.244554</td>\n",
       "      <td>1649.743944</td>\n",
       "      <td>6049.021586</td>\n",
       "      <td>5.622624</td>\n",
       "      <td>3.400615e+07</td>\n",
       "      <td>...</td>\n",
       "      <td>34062.634482</td>\n",
       "      <td>2518.338793</td>\n",
       "      <td>96585.910179</td>\n",
       "      <td>1.510169</td>\n",
       "      <td>1969.140225</td>\n",
       "      <td>1.643843e+05</td>\n",
       "      <td>4.247896e+05</td>\n",
       "      <td>2015.462578</td>\n",
       "      <td>2.605450e+05</td>\n",
       "      <td>6.049340e+13</td>\n",
       "    </tr>\n",
       "    <tr>\n",
       "      <th>std</th>\n",
       "      <td>0.052385</td>\n",
       "      <td>78.449122</td>\n",
       "      <td>0.810469</td>\n",
       "      <td>1.023618</td>\n",
       "      <td>2.807122</td>\n",
       "      <td>685.606288</td>\n",
       "      <td>673.448227</td>\n",
       "      <td>20.755171</td>\n",
       "      <td>4.669709</td>\n",
       "      <td>2.662666e+05</td>\n",
       "      <td>...</td>\n",
       "      <td>46826.696926</td>\n",
       "      <td>808.044968</td>\n",
       "      <td>3365.135815</td>\n",
       "      <td>2.823826</td>\n",
       "      <td>23.189998</td>\n",
       "      <td>1.308985e+05</td>\n",
       "      <td>3.794774e+05</td>\n",
       "      <td>0.498599</td>\n",
       "      <td>2.951560e+05</td>\n",
       "      <td>2.060438e+11</td>\n",
       "    </tr>\n",
       "    <tr>\n",
       "      <th>min</th>\n",
       "      <td>-0.155500</td>\n",
       "      <td>0.000000</td>\n",
       "      <td>0.000000</td>\n",
       "      <td>0.000000</td>\n",
       "      <td>0.000000</td>\n",
       "      <td>2.000000</td>\n",
       "      <td>2.000000</td>\n",
       "      <td>6037.000000</td>\n",
       "      <td>1.000000</td>\n",
       "      <td>3.333930e+07</td>\n",
       "      <td>...</td>\n",
       "      <td>3491.000000</td>\n",
       "      <td>1286.000000</td>\n",
       "      <td>95982.000000</td>\n",
       "      <td>0.000000</td>\n",
       "      <td>1878.000000</td>\n",
       "      <td>4.400000e+01</td>\n",
       "      <td>2.200000e+01</td>\n",
       "      <td>2015.000000</td>\n",
       "      <td>2.200000e+01</td>\n",
       "      <td>6.037101e+13</td>\n",
       "    </tr>\n",
       "    <tr>\n",
       "      <th>25%</th>\n",
       "      <td>-0.022701</td>\n",
       "      <td>88.000000</td>\n",
       "      <td>2.000000</td>\n",
       "      <td>2.000000</td>\n",
       "      <td>4.000000</td>\n",
       "      <td>1176.000000</td>\n",
       "      <td>1166.000000</td>\n",
       "      <td>6037.000000</td>\n",
       "      <td>2.000000</td>\n",
       "      <td>3.380991e+07</td>\n",
       "      <td>...</td>\n",
       "      <td>12447.000000</td>\n",
       "      <td>1286.000000</td>\n",
       "      <td>96206.000000</td>\n",
       "      <td>0.000000</td>\n",
       "      <td>1954.000000</td>\n",
       "      <td>8.319600e+04</td>\n",
       "      <td>2.046490e+05</td>\n",
       "      <td>2015.000000</td>\n",
       "      <td>8.399200e+04</td>\n",
       "      <td>6.037401e+13</td>\n",
       "    </tr>\n",
       "    <tr>\n",
       "      <th>50%</th>\n",
       "      <td>0.005000</td>\n",
       "      <td>151.000000</td>\n",
       "      <td>2.000000</td>\n",
       "      <td>3.000000</td>\n",
       "      <td>5.199984</td>\n",
       "      <td>1518.000000</td>\n",
       "      <td>1495.000000</td>\n",
       "      <td>6037.000000</td>\n",
       "      <td>5.994874</td>\n",
       "      <td>3.401637e+07</td>\n",
       "      <td>...</td>\n",
       "      <td>25218.000000</td>\n",
       "      <td>3101.000000</td>\n",
       "      <td>96398.000000</td>\n",
       "      <td>0.000000</td>\n",
       "      <td>1971.000000</td>\n",
       "      <td>1.326450e+05</td>\n",
       "      <td>3.466230e+05</td>\n",
       "      <td>2015.000000</td>\n",
       "      <td>1.950000e+05</td>\n",
       "      <td>6.037621e+13</td>\n",
       "    </tr>\n",
       "    <tr>\n",
       "      <th>75%</th>\n",
       "      <td>0.032688</td>\n",
       "      <td>211.000000</td>\n",
       "      <td>3.000000</td>\n",
       "      <td>4.000000</td>\n",
       "      <td>7.000000</td>\n",
       "      <td>2023.000000</td>\n",
       "      <td>1984.000000</td>\n",
       "      <td>6059.000000</td>\n",
       "      <td>7.000000</td>\n",
       "      <td>3.417540e+07</td>\n",
       "      <td>...</td>\n",
       "      <td>45602.000000</td>\n",
       "      <td>3101.000000</td>\n",
       "      <td>96987.000000</td>\n",
       "      <td>0.000000</td>\n",
       "      <td>1987.000000</td>\n",
       "      <td>2.061580e+05</td>\n",
       "      <td>5.320780e+05</td>\n",
       "      <td>2016.000000</td>\n",
       "      <td>3.414460e+05</td>\n",
       "      <td>6.059042e+13</td>\n",
       "    </tr>\n",
       "    <tr>\n",
       "      <th>max</th>\n",
       "      <td>0.168900</td>\n",
       "      <td>350.000000</td>\n",
       "      <td>5.000000</td>\n",
       "      <td>8.000000</td>\n",
       "      <td>12.000000</td>\n",
       "      <td>4000.000000</td>\n",
       "      <td>4000.000000</td>\n",
       "      <td>6111.000000</td>\n",
       "      <td>24.000004</td>\n",
       "      <td>3.481877e+07</td>\n",
       "      <td>...</td>\n",
       "      <td>396556.004084</td>\n",
       "      <td>3101.000000</td>\n",
       "      <td>399675.000000</td>\n",
       "      <td>13.000000</td>\n",
       "      <td>2016.000000</td>\n",
       "      <td>4.653658e+06</td>\n",
       "      <td>1.561849e+07</td>\n",
       "      <td>2016.000000</td>\n",
       "      <td>1.435090e+07</td>\n",
       "      <td>6.111009e+13</td>\n",
       "    </tr>\n",
       "  </tbody>\n",
       "</table>\n",
       "<p>8 rows × 25 columns</p>\n",
       "</div>"
      ],
      "text/plain": [
       "            logerror  transactiondate    bathroomcnt     bedroomcnt  \\\n",
       "count  148241.000000    148241.000000  148241.000000  148241.000000   \n",
       "mean        0.005245       149.835450       2.220435       2.993133   \n",
       "std         0.052385        78.449122       0.810469       1.023618   \n",
       "min        -0.155500         0.000000       0.000000       0.000000   \n",
       "25%        -0.022701        88.000000       2.000000       2.000000   \n",
       "50%         0.005000       151.000000       2.000000       3.000000   \n",
       "75%         0.032688       211.000000       3.000000       4.000000   \n",
       "max         0.168900       350.000000       5.000000       8.000000   \n",
       "\n",
       "       buildingqualitytypeid  calculatedfinishedsquarefeet  \\\n",
       "count          148241.000000                 148241.000000   \n",
       "mean                4.676305                   1672.244554   \n",
       "std                 2.807122                    685.606288   \n",
       "min                 0.000000                      2.000000   \n",
       "25%                 4.000000                   1176.000000   \n",
       "50%                 5.199984                   1518.000000   \n",
       "75%                 7.000000                   2023.000000   \n",
       "max                12.000000                   4000.000000   \n",
       "\n",
       "       finishedsquarefeet12           fips  heatingorsystemtypeid  \\\n",
       "count         148241.000000  148241.000000          148241.000000   \n",
       "mean            1649.743944    6049.021586               5.622624   \n",
       "std              673.448227      20.755171               4.669709   \n",
       "min                2.000000    6037.000000               1.000000   \n",
       "25%             1166.000000    6037.000000               2.000000   \n",
       "50%             1495.000000    6037.000000               5.994874   \n",
       "75%             1984.000000    6059.000000               7.000000   \n",
       "max             4000.000000    6111.000000              24.000004   \n",
       "\n",
       "           latitude         ...            regionidcity  regionidcounty  \\\n",
       "count  1.482410e+05         ...           148241.000000   148241.000000   \n",
       "mean   3.400615e+07         ...            34062.634482     2518.338793   \n",
       "std    2.662666e+05         ...            46826.696926      808.044968   \n",
       "min    3.333930e+07         ...             3491.000000     1286.000000   \n",
       "25%    3.380991e+07         ...            12447.000000     1286.000000   \n",
       "50%    3.401637e+07         ...            25218.000000     3101.000000   \n",
       "75%    3.417540e+07         ...            45602.000000     3101.000000   \n",
       "max    3.481877e+07         ...           396556.004084     3101.000000   \n",
       "\n",
       "         regionidzip        roomcnt      yearbuilt  \\\n",
       "count  148241.000000  148241.000000  148241.000000   \n",
       "mean    96585.910179       1.510169    1969.140225   \n",
       "std      3365.135815       2.823826      23.189998   \n",
       "min     95982.000000       0.000000    1878.000000   \n",
       "25%     96206.000000       0.000000    1954.000000   \n",
       "50%     96398.000000       0.000000    1971.000000   \n",
       "75%     96987.000000       0.000000    1987.000000   \n",
       "max    399675.000000      13.000000    2016.000000   \n",
       "\n",
       "       structuretaxvaluedollarcnt  taxvaluedollarcnt  assessmentyear  \\\n",
       "count                1.482410e+05       1.482410e+05   148241.000000   \n",
       "mean                 1.643843e+05       4.247896e+05     2015.462578   \n",
       "std                  1.308985e+05       3.794774e+05        0.498599   \n",
       "min                  4.400000e+01       2.200000e+01     2015.000000   \n",
       "25%                  8.319600e+04       2.046490e+05     2015.000000   \n",
       "50%                  1.326450e+05       3.466230e+05     2015.000000   \n",
       "75%                  2.061580e+05       5.320780e+05     2016.000000   \n",
       "max                  4.653658e+06       1.561849e+07     2016.000000   \n",
       "\n",
       "       landtaxvaluedollarcnt  censustractandblock  \n",
       "count           1.482410e+05         1.482410e+05  \n",
       "mean            2.605450e+05         6.049340e+13  \n",
       "std             2.951560e+05         2.060438e+11  \n",
       "min             2.200000e+01         6.037101e+13  \n",
       "25%             8.399200e+04         6.037401e+13  \n",
       "50%             1.950000e+05         6.037621e+13  \n",
       "75%             3.414460e+05         6.059042e+13  \n",
       "max             1.435090e+07         6.111009e+13  \n",
       "\n",
       "[8 rows x 25 columns]"
      ]
     },
     "execution_count": 5,
     "metadata": {},
     "output_type": "execute_result"
    }
   ],
   "source": [
    "# drop parcelid to exclude from analysis\n",
    "    # axis 1 refers to the columns\n",
    "dataset = dataset.drop('parcelid', axis = 1)\n",
    "\n",
    "# Descriptive statistics for each column\n",
    "dataset.describe()"
   ]
  },
  {
   "cell_type": "markdown",
   "metadata": {},
   "source": [
    "## Features and Labels and Convert Data to Arrays"
   ]
  },
  {
   "cell_type": "code",
   "execution_count": 6,
   "metadata": {},
   "outputs": [
    {
     "name": "stdout",
     "output_type": "stream",
     "text": [
      "The shape of our features is: (148241, 24)\n"
     ]
    }
   ],
   "source": [
    "# assign logerror to an array\n",
    "y = np.array(dataset['logerror'])\n",
    "y = np.absolute(y)\n",
    "\n",
    "# remove logerror from remaining data\n",
    "X = dataset.drop('logerror', axis = 1)\n",
    "\n",
    "# Saving feature names for later use\n",
    "X_list = list(X.columns)\n",
    "\n",
    "print('The shape of our features is:', X.shape)"
   ]
  },
  {
   "cell_type": "code",
   "execution_count": 7,
   "metadata": {},
   "outputs": [
    {
     "data": {
      "text/html": [
       "<div>\n",
       "<style scoped>\n",
       "    .dataframe tbody tr th:only-of-type {\n",
       "        vertical-align: middle;\n",
       "    }\n",
       "\n",
       "    .dataframe tbody tr th {\n",
       "        vertical-align: top;\n",
       "    }\n",
       "\n",
       "    .dataframe thead th {\n",
       "        text-align: right;\n",
       "    }\n",
       "</style>\n",
       "<table border=\"1\" class=\"dataframe\">\n",
       "  <thead>\n",
       "    <tr style=\"text-align: right;\">\n",
       "      <th></th>\n",
       "      <th>transactiondate</th>\n",
       "      <th>bathroomcnt</th>\n",
       "      <th>bedroomcnt</th>\n",
       "      <th>buildingqualitytypeid</th>\n",
       "      <th>calculatedfinishedsquarefeet</th>\n",
       "      <th>finishedsquarefeet12</th>\n",
       "      <th>fips</th>\n",
       "      <th>heatingorsystemtypeid</th>\n",
       "      <th>latitude</th>\n",
       "      <th>longitude</th>\n",
       "      <th>...</th>\n",
       "      <th>regionidcity</th>\n",
       "      <th>regionidcounty</th>\n",
       "      <th>regionidzip</th>\n",
       "      <th>roomcnt</th>\n",
       "      <th>yearbuilt</th>\n",
       "      <th>structuretaxvaluedollarcnt</th>\n",
       "      <th>taxvaluedollarcnt</th>\n",
       "      <th>assessmentyear</th>\n",
       "      <th>landtaxvaluedollarcnt</th>\n",
       "      <th>censustractandblock</th>\n",
       "    </tr>\n",
       "  </thead>\n",
       "  <tbody>\n",
       "    <tr>\n",
       "      <th>0</th>\n",
       "      <td>209.0</td>\n",
       "      <td>3.0</td>\n",
       "      <td>4.0</td>\n",
       "      <td>4.0</td>\n",
       "      <td>2538.0</td>\n",
       "      <td>2538.0</td>\n",
       "      <td>6037.0</td>\n",
       "      <td>2.0</td>\n",
       "      <td>34220381.0</td>\n",
       "      <td>-118620802.0</td>\n",
       "      <td>...</td>\n",
       "      <td>12447.0</td>\n",
       "      <td>3101.0</td>\n",
       "      <td>96339.0</td>\n",
       "      <td>0.0</td>\n",
       "      <td>1978.0</td>\n",
       "      <td>245180.0</td>\n",
       "      <td>567112.0</td>\n",
       "      <td>2015.0</td>\n",
       "      <td>321932.0</td>\n",
       "      <td>6.037113e+13</td>\n",
       "    </tr>\n",
       "    <tr>\n",
       "      <th>1</th>\n",
       "      <td>209.0</td>\n",
       "      <td>3.0</td>\n",
       "      <td>3.0</td>\n",
       "      <td>4.0</td>\n",
       "      <td>1589.0</td>\n",
       "      <td>1589.0</td>\n",
       "      <td>6037.0</td>\n",
       "      <td>2.0</td>\n",
       "      <td>34222040.0</td>\n",
       "      <td>-118622240.0</td>\n",
       "      <td>...</td>\n",
       "      <td>12447.0</td>\n",
       "      <td>3101.0</td>\n",
       "      <td>96339.0</td>\n",
       "      <td>0.0</td>\n",
       "      <td>1959.0</td>\n",
       "      <td>254691.0</td>\n",
       "      <td>459844.0</td>\n",
       "      <td>2015.0</td>\n",
       "      <td>205153.0</td>\n",
       "      <td>6.037113e+13</td>\n",
       "    </tr>\n",
       "    <tr>\n",
       "      <th>2</th>\n",
       "      <td>121.0</td>\n",
       "      <td>2.0</td>\n",
       "      <td>3.0</td>\n",
       "      <td>4.0</td>\n",
       "      <td>2411.0</td>\n",
       "      <td>2411.0</td>\n",
       "      <td>6037.0</td>\n",
       "      <td>2.0</td>\n",
       "      <td>34220427.0</td>\n",
       "      <td>-118618549.0</td>\n",
       "      <td>...</td>\n",
       "      <td>12447.0</td>\n",
       "      <td>3101.0</td>\n",
       "      <td>96339.0</td>\n",
       "      <td>0.0</td>\n",
       "      <td>1973.0</td>\n",
       "      <td>235114.0</td>\n",
       "      <td>384787.0</td>\n",
       "      <td>2015.0</td>\n",
       "      <td>149673.0</td>\n",
       "      <td>6.037113e+13</td>\n",
       "    </tr>\n",
       "    <tr>\n",
       "      <th>3</th>\n",
       "      <td>93.0</td>\n",
       "      <td>2.0</td>\n",
       "      <td>4.0</td>\n",
       "      <td>4.0</td>\n",
       "      <td>2232.0</td>\n",
       "      <td>2232.0</td>\n",
       "      <td>6037.0</td>\n",
       "      <td>2.0</td>\n",
       "      <td>34222390.0</td>\n",
       "      <td>-118618631.0</td>\n",
       "      <td>...</td>\n",
       "      <td>12447.0</td>\n",
       "      <td>3101.0</td>\n",
       "      <td>96339.0</td>\n",
       "      <td>0.0</td>\n",
       "      <td>1973.0</td>\n",
       "      <td>262309.0</td>\n",
       "      <td>437176.0</td>\n",
       "      <td>2015.0</td>\n",
       "      <td>174867.0</td>\n",
       "      <td>6.037113e+13</td>\n",
       "    </tr>\n",
       "    <tr>\n",
       "      <th>4</th>\n",
       "      <td>191.0</td>\n",
       "      <td>2.0</td>\n",
       "      <td>4.0</td>\n",
       "      <td>4.0</td>\n",
       "      <td>1882.0</td>\n",
       "      <td>1882.0</td>\n",
       "      <td>6037.0</td>\n",
       "      <td>2.0</td>\n",
       "      <td>34222544.0</td>\n",
       "      <td>-118617961.0</td>\n",
       "      <td>...</td>\n",
       "      <td>12447.0</td>\n",
       "      <td>3101.0</td>\n",
       "      <td>96339.0</td>\n",
       "      <td>0.0</td>\n",
       "      <td>1973.0</td>\n",
       "      <td>232037.0</td>\n",
       "      <td>382055.0</td>\n",
       "      <td>2015.0</td>\n",
       "      <td>150018.0</td>\n",
       "      <td>6.037113e+13</td>\n",
       "    </tr>\n",
       "  </tbody>\n",
       "</table>\n",
       "<p>5 rows × 24 columns</p>\n",
       "</div>"
      ],
      "text/plain": [
       "   transactiondate  bathroomcnt  bedroomcnt  buildingqualitytypeid  \\\n",
       "0            209.0          3.0         4.0                    4.0   \n",
       "1            209.0          3.0         3.0                    4.0   \n",
       "2            121.0          2.0         3.0                    4.0   \n",
       "3             93.0          2.0         4.0                    4.0   \n",
       "4            191.0          2.0         4.0                    4.0   \n",
       "\n",
       "   calculatedfinishedsquarefeet  finishedsquarefeet12    fips  \\\n",
       "0                        2538.0                2538.0  6037.0   \n",
       "1                        1589.0                1589.0  6037.0   \n",
       "2                        2411.0                2411.0  6037.0   \n",
       "3                        2232.0                2232.0  6037.0   \n",
       "4                        1882.0                1882.0  6037.0   \n",
       "\n",
       "   heatingorsystemtypeid    latitude    longitude         ...           \\\n",
       "0                    2.0  34220381.0 -118620802.0         ...            \n",
       "1                    2.0  34222040.0 -118622240.0         ...            \n",
       "2                    2.0  34220427.0 -118618549.0         ...            \n",
       "3                    2.0  34222390.0 -118618631.0         ...            \n",
       "4                    2.0  34222544.0 -118617961.0         ...            \n",
       "\n",
       "   regionidcity  regionidcounty  regionidzip  roomcnt  yearbuilt  \\\n",
       "0       12447.0          3101.0      96339.0      0.0     1978.0   \n",
       "1       12447.0          3101.0      96339.0      0.0     1959.0   \n",
       "2       12447.0          3101.0      96339.0      0.0     1973.0   \n",
       "3       12447.0          3101.0      96339.0      0.0     1973.0   \n",
       "4       12447.0          3101.0      96339.0      0.0     1973.0   \n",
       "\n",
       "   structuretaxvaluedollarcnt  taxvaluedollarcnt  assessmentyear  \\\n",
       "0                    245180.0           567112.0          2015.0   \n",
       "1                    254691.0           459844.0          2015.0   \n",
       "2                    235114.0           384787.0          2015.0   \n",
       "3                    262309.0           437176.0          2015.0   \n",
       "4                    232037.0           382055.0          2015.0   \n",
       "\n",
       "   landtaxvaluedollarcnt  censustractandblock  \n",
       "0               321932.0         6.037113e+13  \n",
       "1               205153.0         6.037113e+13  \n",
       "2               149673.0         6.037113e+13  \n",
       "3               174867.0         6.037113e+13  \n",
       "4               150018.0         6.037113e+13  \n",
       "\n",
       "[5 rows x 24 columns]"
      ]
     },
     "execution_count": 7,
     "metadata": {},
     "output_type": "execute_result"
    }
   ],
   "source": [
    "X.head()"
   ]
  },
  {
   "cell_type": "markdown",
   "metadata": {},
   "source": [
    "## Split train/test sets"
   ]
  },
  {
   "cell_type": "code",
   "execution_count": 8,
   "metadata": {},
   "outputs": [],
   "source": [
    "# Using Skicit-learn to split data into training and testing sets\n",
    "from sklearn.model_selection import train_test_split"
   ]
  },
  {
   "cell_type": "code",
   "execution_count": 9,
   "metadata": {},
   "outputs": [],
   "source": [
    "# Split the data into training and testing sets\n",
    "X_train, X_test, y_train, y_test = train_test_split(X, y, test_size = 0.33, random_state=42)"
   ]
  },
  {
   "cell_type": "code",
   "execution_count": 10,
   "metadata": {},
   "outputs": [
    {
     "name": "stdout",
     "output_type": "stream",
     "text": [
      "X Training Data Shape: (99321, 24)\n",
      "y Training Data Shape: (99321,)\n",
      "X Testing Data Shape: (48920, 24)\n",
      "y Testing Data Shape: (48920,)\n"
     ]
    }
   ],
   "source": [
    "print('X Training Data Shape:', X_train.shape)\n",
    "print('y Training Data Shape:', y_train.shape)\n",
    "print('X Testing Data Shape:', X_test.shape)\n",
    "print('y Testing Data Shape:', y_test.shape)"
   ]
  },
  {
   "cell_type": "markdown",
   "metadata": {},
   "source": [
    "## RandomForest"
   ]
  },
  {
   "cell_type": "code",
   "execution_count": 11,
   "metadata": {},
   "outputs": [],
   "source": [
    "# Import the model we are using\n",
    "from sklearn.ensemble import RandomForestRegressor"
   ]
  },
  {
   "cell_type": "markdown",
   "metadata": {},
   "source": [
    "### Parameter determination"
   ]
  },
  {
   "cell_type": "markdown",
   "metadata": {},
   "source": [
    "Determine max_depth before running the model."
   ]
  },
  {
   "cell_type": "code",
   "execution_count": 65,
   "metadata": {},
   "outputs": [
    {
     "data": {
      "text/plain": [
       "[<matplotlib.lines.Line2D at 0x1e11fa729e8>]"
      ]
     },
     "execution_count": 65,
     "metadata": {},
     "output_type": "execute_result"
    },
    {
     "data": {
      "image/png": "[encoded data removed]",
      "text/plain": [
       "<Figure size 432x288 with 1 Axes>"
      ]
     },
     "metadata": {},
     "output_type": "display_data"
    }
   ],
   "source": [
    "# Establish model\n",
    "rf2 = RandomForestRegressor(n_jobs=-1, max_features='log2', random_state=42)\n",
    "\n",
    "# Try different numbers of max_depth - this will take a minute or so\n",
    "depth = np.arange(1, 15, 1)\n",
    "mse = []\n",
    "for n in depth:\n",
    "    rf2.set_params(max_depth=n)\n",
    "    rf2.fit(X_train, y_train)\n",
    "    mse.append(mean_squared_error(y_test, rf2.predict(X_test)))\n",
    "plt.title(\"Effect of max_depth\")\n",
    "plt.xlabel(\"max_depth\")\n",
    "plt.ylabel(\"mse\")\n",
    "plt.plot(depth, mse)"
   ]
  },
  {
   "cell_type": "markdown",
   "metadata": {},
   "source": [
    "Determine n_estimators before running the model."
   ]
  },
  {
   "cell_type": "code",
   "execution_count": 71,
   "metadata": {},
   "outputs": [
    {
     "data": {
      "text/plain": [
       "[<matplotlib.lines.Line2D at 0x1e11f2fd710>]"
      ]
     },
     "execution_count": 71,
     "metadata": {},
     "output_type": "execute_result"
    },
    {
     "data": {
      "image/png": "[encoded data removed]",
      "text/plain": [
       "<Figure size 432x288 with 1 Axes>"
      ]
     },
     "metadata": {},
     "output_type": "display_data"
    }
   ],
   "source": [
    "# Establish model\n",
    "rf = RandomForestRegressor(n_jobs=-1, max_depth=10, max_features='log2', random_state=42)\n",
    "\n",
    "# Try different numbers of n_estimators - this will take a minute or so\n",
    "estimators = np.arange(50, 550, 50)\n",
    "mse = []\n",
    "for n in estimators:\n",
    "    rf.set_params(n_estimators=n)\n",
    "    rf.fit(X_train, y_train)\n",
    "    mse.append(mean_squared_error(y_test, rf.predict(X_test)))\n",
    "plt.title(\"Effect of n_estimators\")\n",
    "plt.xlabel(\"n_estimator\")\n",
    "plt.ylabel(\"mse\")\n",
    "plt.plot(estimators, mse)"
   ]
  },
  {
   "cell_type": "markdown",
   "metadata": {},
   "source": [
    "### Run the model  \n",
    "  \n",
    "With trial and error, I found the model can have a lower MSE despite the above values."
   ]
  },
  {
   "cell_type": "code",
   "execution_count": 14,
   "metadata": {},
   "outputs": [
    {
     "name": "stdout",
     "output_type": "stream",
     "text": [
      "Time:  12.121598603480143\n"
     ]
    }
   ],
   "source": [
    "start = timeit.default_timer()\n",
    "\n",
    "forest = RandomForestRegressor(n_estimators=100, max_depth=10, max_features='log2', random_state=42)\n",
    "forest.fit(X_train, y_train)\n",
    "\n",
    "stop = timeit.default_timer()\n",
    "print('Time: ', stop - start)"
   ]
  },
  {
   "cell_type": "markdown",
   "metadata": {},
   "source": [
    "### MSE Calculation"
   ]
  },
  {
   "cell_type": "code",
   "execution_count": 15,
   "metadata": {},
   "outputs": [
    {
     "name": "stdout",
     "output_type": "stream",
     "text": [
      "MSE: 0.00117538\n"
     ]
    }
   ],
   "source": [
    "# performance metric\n",
    "mse = mean_squared_error(y_test, forest.predict(X_test))\n",
    "print(\"MSE: %.8f\" % mse)"
   ]
  },
  {
   "cell_type": "markdown",
   "metadata": {},
   "source": [
    "### Visualizing a Single Decision Tree"
   ]
  },
  {
   "cell_type": "code",
   "execution_count": 16,
   "metadata": {},
   "outputs": [],
   "source": [
    "# Import tools needed for visualization\n",
    "from sklearn.tree import export_graphviz\n",
    "import pydot"
   ]
  },
  {
   "cell_type": "code",
   "execution_count": 17,
   "metadata": {},
   "outputs": [
    {
     "name": "stdout",
     "output_type": "stream",
     "text": [
      "The depth of this tree is: 10\n"
     ]
    }
   ],
   "source": [
    "# Pull out one tree from the forest\n",
    "tree = forest.estimators_[0]\n",
    "\n",
    "print('The depth of this tree is:', tree.tree_.max_depth)"
   ]
  },
  {
   "cell_type": "markdown",
   "metadata": {},
   "source": [
    "The tree is too deep to visualize here, so we will limit the depth to 4 levels."
   ]
  },
  {
   "cell_type": "code",
   "execution_count": 18,
   "metadata": {},
   "outputs": [],
   "source": [
    "# Limit depth of tree to 3 levels\n",
    "forest_small = RandomForestRegressor(n_estimators=100, max_depth=3, max_features='log2', random_state=42)\n",
    "forest_small.fit(X_train, y_train)\n",
    "\n",
    "# Extract the small tree\n",
    "tree_small = forest_small.estimators_[0]\n",
    "\n",
    "# Save the tree as a png image\n",
    "export_graphviz(tree_small, out_file = 'small_tree.dot', feature_names = X_list, rounded = True, precision = 1)\n",
    "\n",
    "(graph, ) = pydot.graph_from_dot_file('small_tree.dot')\n",
    "\n",
    "graph.write_png('small_tree.png');"
   ]
  },
  {
   "cell_type": "markdown",
   "metadata": {},
   "source": [
    "<img src='small_tree.png'>"
   ]
  },
  {
   "cell_type": "markdown",
   "metadata": {},
   "source": [
    "### Feature Analysis"
   ]
  },
  {
   "cell_type": "code",
   "execution_count": 19,
   "metadata": {},
   "outputs": [
    {
     "data": {
      "image/png": "[encoded data removed]",
      "text/plain": [
       "<Figure size 720x720 with 1 Axes>"
      ]
     },
     "metadata": {},
     "output_type": "display_data"
    }
   ],
   "source": [
    "rf_importance = forest.feature_importances_\n",
    "rf_importance_df = pd.DataFrame()\n",
    "rf_importance_df['features'] = X_train.columns\n",
    "rf_importance_df['importance'] = rf_importance\n",
    "rf_importance_df.head();\n",
    "rf_importance_df.sort_values('importance', axis=0, inplace=True, ascending=False)\n",
    "rf_importance_df_trim = rf_importance_df[rf_importance_df.importance>0.001]\n",
    "rf_importance_df_trim.tail()\n",
    "rf_feature_list = rf_importance_df_trim.features\n",
    "\n",
    "fig, ax = plt.subplots(figsize=(10,10))\n",
    "sns.barplot(x=\"importance\", y=\"features\", data=rf_importance_df, color='#3498db', ax=ax)\n",
    "ax.set(xlabel=\"Importance (Variance explained)\", ylabel=\"\")\n",
    "ax.set_title('Random Forest Importance', fontsize= 10)\n",
    "plt.show()"
   ]
  },
  {
   "cell_type": "markdown",
   "metadata": {},
   "source": [
    "## Gradient Boosted Trees"
   ]
  },
  {
   "cell_type": "code",
   "execution_count": 12,
   "metadata": {},
   "outputs": [],
   "source": [
    "from sklearn.ensemble import GradientBoostingRegressor"
   ]
  },
  {
   "cell_type": "markdown",
   "metadata": {},
   "source": [
    "### Parameter determination"
   ]
  },
  {
   "cell_type": "markdown",
   "metadata": {},
   "source": [
    "Determine learning_rate before running the model."
   ]
  },
  {
   "cell_type": "code",
   "execution_count": 16,
   "metadata": {},
   "outputs": [
    {
     "data": {
      "text/plain": [
       "[<matplotlib.lines.Line2D at 0x1e11f0a65c0>]"
      ]
     },
     "execution_count": 16,
     "metadata": {},
     "output_type": "execute_result"
    },
    {
     "data": {
      "image/png": "[encoded data removed]",
      "text/plain": [
       "<Figure size 432x288 with 1 Axes>"
      ]
     },
     "metadata": {},
     "output_type": "display_data"
    }
   ],
   "source": [
    "# Establish model\n",
    "gb3 = GradientBoostingRegressor(max_features='log2', random_state=42)\n",
    "\n",
    "# Try different numbers of learning_rate - this will take a minute or so\n",
    "lr = np.arange(0.01, 0.2, 0.01)\n",
    "mse = []\n",
    "for n in lr:\n",
    "    gb3.set_params(learning_rate=n)\n",
    "    gb3.fit(X_train, y_train)\n",
    "    mse.append(mean_squared_error(y_test, gb3.predict(X_test)))\n",
    "plt.title(\"Effect of learning_rate\")\n",
    "plt.xlabel(\"learning_rate\")\n",
    "plt.ylabel(\"mse\")\n",
    "plt.plot(lr, mse)"
   ]
  },
  {
   "cell_type": "markdown",
   "metadata": {},
   "source": [
    "Determine n_estimators before running the model."
   ]
  },
  {
   "cell_type": "code",
   "execution_count": 160,
   "metadata": {},
   "outputs": [
    {
     "data": {
      "text/plain": [
       "[<matplotlib.lines.Line2D at 0x1fe86f3e4a8>]"
      ]
     },
     "execution_count": 160,
     "metadata": {},
     "output_type": "execute_result"
    },
    {
     "data": {
      "image/png": "[encoded data removed]",
      "text/plain": [
       "<Figure size 432x288 with 1 Axes>"
      ]
     },
     "metadata": {},
     "output_type": "display_data"
    }
   ],
   "source": [
    "# Establish model\n",
    "gb = GradientBoostingRegressor(learning_rate=0.13, max_features='log2', random_state=42)\n",
    "\n",
    "# Try different numbers of n_estimators - this will take a minute or so\n",
    "estimators = np.arange(50, 550, 50)\n",
    "mse = []\n",
    "for n in estimators:\n",
    "    gb.set_params(n_estimators=n)\n",
    "    gb.fit(X_train, y_train)\n",
    "    mse.append(mean_squared_error(y_test, gb.predict(X_test)))\n",
    "plt.title(\"Effect of n_estimators\")\n",
    "plt.xlabel(\"n_estimator\")\n",
    "plt.ylabel(\"mse\")\n",
    "plt.plot(estimators, mse)"
   ]
  },
  {
   "cell_type": "markdown",
   "metadata": {},
   "source": [
    "Determine max_depth before running the model."
   ]
  },
  {
   "cell_type": "code",
   "execution_count": 162,
   "metadata": {},
   "outputs": [
    {
     "data": {
      "text/plain": [
       "[<matplotlib.lines.Line2D at 0x1fe8a8a8f28>]"
      ]
     },
     "execution_count": 162,
     "metadata": {},
     "output_type": "execute_result"
    },
    {
     "data": {
      "image/png": "[encoded data removed]",
      "text/plain": [
       "<Figure size 432x288 with 1 Axes>"
      ]
     },
     "metadata": {},
     "output_type": "display_data"
    }
   ],
   "source": [
    "# Establish model\n",
    "gb2 = GradientBoostingRegressor(n_estimators=300, learning_rate=0.13, max_features='log2', random_state=42)\n",
    "\n",
    "# Try different numbers of max_depth - this will take a minute or so\n",
    "depth = np.arange(1, 10, 1)\n",
    "mse = []\n",
    "for n in depth:\n",
    "    gb2.set_params(max_depth=n)\n",
    "    gb2.fit(X_train, y_train)\n",
    "    mse.append(mean_squared_error(y_test, gb2.predict(X_test)))\n",
    "plt.title(\"Effect of max_depth\")\n",
    "plt.xlabel(\"max_depth\")\n",
    "plt.ylabel(\"mse\")\n",
    "plt.plot(depth, mse)"
   ]
  },
  {
   "cell_type": "markdown",
   "metadata": {},
   "source": [
    "### Run the model"
   ]
  },
  {
   "cell_type": "code",
   "execution_count": 20,
   "metadata": {},
   "outputs": [
    {
     "name": "stdout",
     "output_type": "stream",
     "text": [
      "Time: 6.430\n"
     ]
    }
   ],
   "source": [
    "start = timeit.default_timer()\n",
    "\n",
    "gbrt = GradientBoostingRegressor(n_estimators=300, max_depth=3, learning_rate=0.13, max_features='log2', random_state=42)\n",
    "gbrt.fit(X_train, y_train)\n",
    "\n",
    "stop = timeit.default_timer()\n",
    "time = stop - start\n",
    "print(\"Time: %.3f\" % time)"
   ]
  },
  {
   "cell_type": "markdown",
   "metadata": {},
   "source": [
    "### MSE Calculation"
   ]
  },
  {
   "cell_type": "code",
   "execution_count": 21,
   "metadata": {},
   "outputs": [
    {
     "name": "stdout",
     "output_type": "stream",
     "text": [
      "MSE: 0.00117330\n"
     ]
    }
   ],
   "source": [
    "# performance metric\n",
    "mse = mean_squared_error(y_test, gbrt.predict(X_test))\n",
    "print(\"MSE: %.8f\" % mse)"
   ]
  },
  {
   "cell_type": "markdown",
   "metadata": {},
   "source": [
    "### Feature Analysis"
   ]
  },
  {
   "cell_type": "code",
   "execution_count": 22,
   "metadata": {},
   "outputs": [
    {
     "data": {
      "image/png": "[encoded data removed]",
      "text/plain": [
       "<Figure size 720x720 with 1 Axes>"
      ]
     },
     "metadata": {},
     "output_type": "display_data"
    }
   ],
   "source": [
    "rf_importance = gbrt.feature_importances_\n",
    "rf_importance_df = pd.DataFrame()\n",
    "rf_importance_df['features'] = X_train.columns\n",
    "rf_importance_df['importance'] = rf_importance\n",
    "rf_importance_df.head();\n",
    "rf_importance_df.sort_values('importance', axis=0, inplace=True, ascending=False)\n",
    "rf_importance_df_trim = rf_importance_df[rf_importance_df.importance>0.001]\n",
    "rf_importance_df_trim.tail()\n",
    "rf_feature_list = rf_importance_df_trim.features\n",
    "\n",
    "fig, ax = plt.subplots(figsize=(10,10))\n",
    "sns.barplot(x=\"importance\", y=\"features\", data=rf_importance_df, color='#3498db', ax=ax)\n",
    "ax.set(xlabel=\"Importance (Variance explained)\", ylabel=\"\")\n",
    "ax.set_title('Gradient Boosted Trees Importance', fontsize= 10)\n",
    "plt.show()"
   ]
  },
  {
   "cell_type": "markdown",
   "metadata": {},
   "source": [
    "## XGBoosted"
   ]
  },
  {
   "cell_type": "code",
   "execution_count": 13,
   "metadata": {},
   "outputs": [],
   "source": [
    "from xgboost.sklearn import XGBRegressor\n",
    "y_mean = np.mean(y_train)"
   ]
  },
  {
   "cell_type": "markdown",
   "metadata": {},
   "source": [
    "### Parameter determination"
   ]
  },
  {
   "cell_type": "markdown",
   "metadata": {},
   "source": [
    "Determine max_depth before running the model."
   ]
  },
  {
   "cell_type": "code",
   "execution_count": 175,
   "metadata": {},
   "outputs": [
    {
     "data": {
      "text/plain": [
       "[<matplotlib.lines.Line2D at 0x1fe84067780>]"
      ]
     },
     "execution_count": 175,
     "metadata": {},
     "output_type": "execute_result"
    },
    {
     "data": {
      "image/png": "[encoded data removed]",
      "text/plain": [
       "<Figure size 432x288 with 1 Axes>"
      ]
     },
     "metadata": {},
     "output_type": "display_data"
    }
   ],
   "source": [
    "# Establish model\n",
    "xgb2 = XGBRegressor(base_score=y_mean, random_state=42)\n",
    "\n",
    "# Try different numbers of max_depth - this will take a minute or so\n",
    "depth = np.arange(1, 10, 1)\n",
    "mse = []\n",
    "for n in depth:\n",
    "    xgb2.set_params(max_depth=n)\n",
    "    xgb2.fit(X_train, y_train)\n",
    "    mse.append(mean_squared_error(y_test, xgb2.predict(X_test)))\n",
    "plt.title(\"Effect of max_depth\")\n",
    "plt.xlabel(\"max_depth\")\n",
    "plt.ylabel(\"mse\")\n",
    "plt.plot(depth, mse)"
   ]
  },
  {
   "cell_type": "markdown",
   "metadata": {},
   "source": [
    "Determine n_estimators before running the model."
   ]
  },
  {
   "cell_type": "code",
   "execution_count": 19,
   "metadata": {},
   "outputs": [
    {
     "data": {
      "text/plain": [
       "[<matplotlib.lines.Line2D at 0x1b5ae511e48>]"
      ]
     },
     "execution_count": 19,
     "metadata": {},
     "output_type": "execute_result"
    },
    {
     "data": {
      "image/png": "[encoded data removed]",
      "text/plain": [
       "<Figure size 432x288 with 1 Axes>"
      ]
     },
     "metadata": {},
     "output_type": "display_data"
    }
   ],
   "source": [
    "# Establish model\n",
    "xgb = XGBRegressor(base_score=y_mean, random_state=42)\n",
    "\n",
    "# Try different numbers of n_estimators - this will take a minute or so\n",
    "estimators = np.arange(50, 550, 50)\n",
    "mse = []\n",
    "for n in estimators:\n",
    "    xgb.set_params(n_estimators=n)\n",
    "    xgb.fit(X_train, y_train)\n",
    "    mse.append(mean_squared_error(y_test, xgb.predict(X_test)))\n",
    "plt.title(\"Effect of n_estimators\")\n",
    "plt.xlabel(\"n_estimator\")\n",
    "plt.ylabel(\"mse\")\n",
    "plt.plot(estimators, mse)"
   ]
  },
  {
   "cell_type": "markdown",
   "metadata": {},
   "source": [
    "Determine subsample before running the model."
   ]
  },
  {
   "cell_type": "code",
   "execution_count": 16,
   "metadata": {},
   "outputs": [
    {
     "data": {
      "text/plain": [
       "[<matplotlib.lines.Line2D at 0x1b5ae51f470>]"
      ]
     },
     "execution_count": 16,
     "metadata": {},
     "output_type": "execute_result"
    },
    {
     "data": {
      "image/png": "[encoded data removed]",
      "text/plain": [
       "<Figure size 432x288 with 1 Axes>"
      ]
     },
     "metadata": {},
     "output_type": "display_data"
    }
   ],
   "source": [
    "# Establish model\n",
    "xgb4 = XGBRegressor(base_score=y_mean, random_state=42)\n",
    "\n",
    "# Try different numbers of subsample - this will take a minute or so\n",
    "ss = np.arange(0.1, 1.0, 0.1)\n",
    "mse = []\n",
    "for n in ss:\n",
    "    xgb4.set_params(subsample=n)\n",
    "    xgb4.fit(X_train, y_train)\n",
    "    mse.append(mean_squared_error(y_test, xgb4.predict(X_test)))\n",
    "plt.title(\"Effect of subsample\")\n",
    "plt.xlabel(\"subsample\")\n",
    "plt.ylabel(\"mse\")\n",
    "plt.plot(ss, mse)"
   ]
  },
  {
   "cell_type": "markdown",
   "metadata": {},
   "source": [
    "Determine reg_alpha before running the model."
   ]
  },
  {
   "cell_type": "code",
   "execution_count": 17,
   "metadata": {},
   "outputs": [
    {
     "data": {
      "text/plain": [
       "[<matplotlib.lines.Line2D at 0x1b5c6627f60>]"
      ]
     },
     "execution_count": 17,
     "metadata": {},
     "output_type": "execute_result"
    },
    {
     "data": {
      "image/png": "[encoded data removed]",
      "text/plain": [
       "<Figure size 432x288 with 1 Axes>"
      ]
     },
     "metadata": {},
     "output_type": "display_data"
    }
   ],
   "source": [
    "# Establish model\n",
    "xgb5 = XGBRegressor(base_score=y_mean, random_state=42)\n",
    "\n",
    "# Try different numbers of reg_alpha - this will take a minute or so\n",
    "alpha = np.arange(0.1, 1.0, 0.1)\n",
    "mse = []\n",
    "for n in alpha:\n",
    "    xgb5.set_params(reg_alpha=n)\n",
    "    xgb5.fit(X_train, y_train)\n",
    "    mse.append(mean_squared_error(y_test, xgb5.predict(X_test)))\n",
    "plt.title(\"Effect of reg_alpha\")\n",
    "plt.xlabel(\"reg_alpha\")\n",
    "plt.ylabel(\"mse\")\n",
    "plt.plot(alpha, mse)"
   ]
  },
  {
   "cell_type": "markdown",
   "metadata": {},
   "source": [
    "Determine reg_lambda before running the model."
   ]
  },
  {
   "cell_type": "code",
   "execution_count": 18,
   "metadata": {},
   "outputs": [
    {
     "data": {
      "text/plain": [
       "[<matplotlib.lines.Line2D at 0x1b5c6691160>]"
      ]
     },
     "execution_count": 18,
     "metadata": {},
     "output_type": "execute_result"
    },
    {
     "data": {
      "image/png": "[encoded data removed]",
      "text/plain": [
       "<Figure size 432x288 with 1 Axes>"
      ]
     },
     "metadata": {},
     "output_type": "display_data"
    }
   ],
   "source": [
    "# Establish model\n",
    "xgb6 = XGBRegressor(base_score=y_mean, random_state=42)\n",
    "\n",
    "# Try different numbers of reg_lambda - this will take a minute or so\n",
    "lmbda = np.arange(0.1, 1.0, 0.1)\n",
    "mse = []\n",
    "for n in lmbda:\n",
    "    xgb6.set_params(reg_lambda=n)\n",
    "    xgb6.fit(X_train, y_train)\n",
    "    mse.append(mean_squared_error(y_test, xgb6.predict(X_test)))\n",
    "plt.title(\"Effect of reg_lambda\")\n",
    "plt.xlabel(\"reg_lambda\")\n",
    "plt.ylabel(\"mse\")\n",
    "plt.plot(lmbda, mse)"
   ]
  },
  {
   "cell_type": "markdown",
   "metadata": {},
   "source": [
    "### Run the model"
   ]
  },
  {
   "cell_type": "markdown",
   "metadata": {},
   "source": [
    "With trial and error, I found the model can have a lower MSE despite the above values."
   ]
  },
  {
   "cell_type": "code",
   "execution_count": 23,
   "metadata": {},
   "outputs": [
    {
     "name": "stdout",
     "output_type": "stream",
     "text": [
      "Time: 62.628\n"
     ]
    }
   ],
   "source": [
    "start = timeit.default_timer()\n",
    "\n",
    "xgb_reg = XGBRegressor(max_depth=5, n_estimators=350, learning_rate=0.037, subsample=0.8, \n",
    "                       reg_alpha=0.4, reg_lambda=0.8, base_score=y_mean, random_state=42)\n",
    "xgb_reg.fit(X_train, y_train)\n",
    "\n",
    "stop = timeit.default_timer()\n",
    "time = stop - start\n",
    "print(\"Time: %.3f\" % time)"
   ]
  },
  {
   "cell_type": "markdown",
   "metadata": {},
   "source": [
    "### MSE Calculation"
   ]
  },
  {
   "cell_type": "code",
   "execution_count": 24,
   "metadata": {
    "scrolled": true
   },
   "outputs": [
    {
     "name": "stdout",
     "output_type": "stream",
     "text": [
      "MSE: 0.00116985\n"
     ]
    }
   ],
   "source": [
    "# performance metric\n",
    "mse = mean_squared_error(y_test, xgb_reg.predict(X_test))\n",
    "print(\"MSE: %.8f\" % mse)"
   ]
  },
  {
   "cell_type": "markdown",
   "metadata": {},
   "source": [
    "### Feature Analysis"
   ]
  },
  {
   "cell_type": "code",
   "execution_count": 25,
   "metadata": {},
   "outputs": [
    {
     "data": {
      "image/png": "[encoded data removed]",
      "text/plain": [
       "<Figure size 864x864 with 1 Axes>"
      ]
     },
     "metadata": {},
     "output_type": "display_data"
    }
   ],
   "source": [
    "rf_importance = xgb_reg.feature_importances_\n",
    "rf_importance_df = pd.DataFrame()\n",
    "rf_importance_df['features'] = X_train.columns\n",
    "rf_importance_df['importance'] = rf_importance\n",
    "rf_importance_df.head();\n",
    "rf_importance_df.sort_values('importance', axis=0, inplace=True, ascending=False)\n",
    "rf_importance_df_trim = rf_importance_df[rf_importance_df.importance>0.001]\n",
    "rf_importance_df_trim.tail()\n",
    "rf_feature_list = rf_importance_df_trim.features\n",
    "\n",
    "fig, ax = plt.subplots(figsize=(12,12))\n",
    "sns.barplot(x=\"importance\", y=\"features\", data=rf_importance_df, color='#3498db', ax=ax)\n",
    "ax.set(xlabel=\"Importance (Variance explained)\", ylabel=\"\")\n",
    "ax.set_title('XGBoosted Importance', fontsize= 10)\n",
    "plt.show()"
   ]
  },
  {
   "cell_type": "markdown",
   "metadata": {},
   "source": [
    "### Linear Regression (Baseline)"
   ]
  },
  {
   "cell_type": "code",
   "execution_count": 26,
   "metadata": {},
   "outputs": [
    {
     "name": "stdout",
     "output_type": "stream",
     "text": [
      "MSE: 0.00120085\n"
     ]
    }
   ],
   "source": [
    "from sklearn.linear_model import LinearRegression\n",
    "logmodel = LinearRegression()\n",
    "logmodel.fit(X_train,y_train)\n",
    "mse = mean_squared_error(y_test, logmodel.predict(X_test))\n",
    "print(\"MSE: %.8f\" % mse)"
   ]
  },
  {
   "cell_type": "markdown",
   "metadata": {},
   "source": [
    "## MSE Results"
   ]
  },
  {
   "cell_type": "markdown",
   "metadata": {},
   "source": [
    "<b>MSE with absolute logerror:</b>  \n",
    "RandomForest-MSE: 0.00117538  \n",
    "GradientBoosted-MSE: 0.00117330   \n",
    "XGBoosted-MSE: 0.00116985  \n",
    "Linear Regression-MSE: 0.00120085  "
   ]
  },
  {
   "cell_type": "markdown",
   "metadata": {},
   "source": [
    "## Conclusion"
   ]
  },
  {
   "cell_type": "markdown",
   "metadata": {},
   "source": [
    "XGBoosted has the lowest MSE"
   ]
  },
  {
   "cell_type": "code",
   "execution_count": null,
   "metadata": {},
   "outputs": [],
   "source": []
  }
 ],
 "metadata": {
  "kernelspec": {
   "display_name": "Python 3",
   "language": "python",
   "name": "python3"
  },
  "language_info": {
   "codemirror_mode": {
    "name": "ipython",
    "version": 3
   },
   "file_extension": ".py",
   "mimetype": "text/x-python",
   "name": "python",
   "nbconvert_exporter": "python",
   "pygments_lexer": "ipython3",
   "version": "3.6.5"
  }
 },
 "nbformat": 4,
 "nbformat_minor": 2
}
